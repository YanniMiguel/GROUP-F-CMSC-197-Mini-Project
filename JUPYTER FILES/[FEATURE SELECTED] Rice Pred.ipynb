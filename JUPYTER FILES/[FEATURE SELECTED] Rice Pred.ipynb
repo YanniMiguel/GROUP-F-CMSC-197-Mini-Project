{
 "cells": [
  {
   "cell_type": "code",
   "execution_count": 1,
   "id": "c23fdd4c-d50c-41aa-9f21-a4bada5a9e32",
   "metadata": {},
   "outputs": [
    {
     "data": {
      "text/html": [
       "<div>\n",
       "<style scoped>\n",
       "    .dataframe tbody tr th:only-of-type {\n",
       "        vertical-align: middle;\n",
       "    }\n",
       "\n",
       "    .dataframe tbody tr th {\n",
       "        vertical-align: top;\n",
       "    }\n",
       "\n",
       "    .dataframe thead th {\n",
       "        text-align: right;\n",
       "    }\n",
       "</style>\n",
       "<table border=\"1\" class=\"dataframe\">\n",
       "  <thead>\n",
       "    <tr style=\"text-align: right;\">\n",
       "      <th></th>\n",
       "      <th>latitude</th>\n",
       "      <th>longitude</th>\n",
       "      <th>price</th>\n",
       "      <th>year</th>\n",
       "      <th>1</th>\n",
       "      <th>2</th>\n",
       "      <th>3</th>\n",
       "      <th>4</th>\n",
       "      <th>5</th>\n",
       "      <th>6</th>\n",
       "      <th>...</th>\n",
       "      <th>Naga City</th>\n",
       "      <th>Tacloban City</th>\n",
       "      <th>Cagayan de Oro City</th>\n",
       "      <th>Kidapawan City</th>\n",
       "      <th>Butuan City</th>\n",
       "      <th>Calapan City</th>\n",
       "      <th>Metropolitan Manila</th>\n",
       "      <th>La Union</th>\n",
       "      <th>Compostela Valley</th>\n",
       "      <th>North Cotabato</th>\n",
       "    </tr>\n",
       "  </thead>\n",
       "  <tbody>\n",
       "    <tr>\n",
       "      <th>0</th>\n",
       "      <td>14.604167</td>\n",
       "      <td>120.982222</td>\n",
       "      <td>20.00</td>\n",
       "      <td>2000</td>\n",
       "      <td>1</td>\n",
       "      <td>0</td>\n",
       "      <td>0</td>\n",
       "      <td>0</td>\n",
       "      <td>0</td>\n",
       "      <td>0</td>\n",
       "      <td>...</td>\n",
       "      <td>0</td>\n",
       "      <td>0</td>\n",
       "      <td>0</td>\n",
       "      <td>0</td>\n",
       "      <td>0</td>\n",
       "      <td>0</td>\n",
       "      <td>1</td>\n",
       "      <td>0</td>\n",
       "      <td>0</td>\n",
       "      <td>0</td>\n",
       "    </tr>\n",
       "    <tr>\n",
       "      <th>1</th>\n",
       "      <td>14.604167</td>\n",
       "      <td>120.982222</td>\n",
       "      <td>18.35</td>\n",
       "      <td>2000</td>\n",
       "      <td>1</td>\n",
       "      <td>0</td>\n",
       "      <td>0</td>\n",
       "      <td>0</td>\n",
       "      <td>0</td>\n",
       "      <td>0</td>\n",
       "      <td>...</td>\n",
       "      <td>0</td>\n",
       "      <td>0</td>\n",
       "      <td>0</td>\n",
       "      <td>0</td>\n",
       "      <td>0</td>\n",
       "      <td>0</td>\n",
       "      <td>1</td>\n",
       "      <td>0</td>\n",
       "      <td>0</td>\n",
       "      <td>0</td>\n",
       "    </tr>\n",
       "    <tr>\n",
       "      <th>2</th>\n",
       "      <td>15.541500</td>\n",
       "      <td>121.084800</td>\n",
       "      <td>19.00</td>\n",
       "      <td>2000</td>\n",
       "      <td>1</td>\n",
       "      <td>0</td>\n",
       "      <td>0</td>\n",
       "      <td>0</td>\n",
       "      <td>0</td>\n",
       "      <td>0</td>\n",
       "      <td>...</td>\n",
       "      <td>0</td>\n",
       "      <td>0</td>\n",
       "      <td>0</td>\n",
       "      <td>0</td>\n",
       "      <td>0</td>\n",
       "      <td>0</td>\n",
       "      <td>0</td>\n",
       "      <td>0</td>\n",
       "      <td>0</td>\n",
       "      <td>0</td>\n",
       "    </tr>\n",
       "    <tr>\n",
       "      <th>3</th>\n",
       "      <td>15.541500</td>\n",
       "      <td>121.084800</td>\n",
       "      <td>18.00</td>\n",
       "      <td>2000</td>\n",
       "      <td>1</td>\n",
       "      <td>0</td>\n",
       "      <td>0</td>\n",
       "      <td>0</td>\n",
       "      <td>0</td>\n",
       "      <td>0</td>\n",
       "      <td>...</td>\n",
       "      <td>0</td>\n",
       "      <td>0</td>\n",
       "      <td>0</td>\n",
       "      <td>0</td>\n",
       "      <td>0</td>\n",
       "      <td>0</td>\n",
       "      <td>0</td>\n",
       "      <td>0</td>\n",
       "      <td>0</td>\n",
       "      <td>0</td>\n",
       "    </tr>\n",
       "    <tr>\n",
       "      <th>4</th>\n",
       "      <td>10.696944</td>\n",
       "      <td>122.564444</td>\n",
       "      <td>20.40</td>\n",
       "      <td>2000</td>\n",
       "      <td>1</td>\n",
       "      <td>0</td>\n",
       "      <td>0</td>\n",
       "      <td>0</td>\n",
       "      <td>0</td>\n",
       "      <td>0</td>\n",
       "      <td>...</td>\n",
       "      <td>0</td>\n",
       "      <td>0</td>\n",
       "      <td>0</td>\n",
       "      <td>0</td>\n",
       "      <td>0</td>\n",
       "      <td>0</td>\n",
       "      <td>0</td>\n",
       "      <td>0</td>\n",
       "      <td>0</td>\n",
       "      <td>0</td>\n",
       "    </tr>\n",
       "    <tr>\n",
       "      <th>...</th>\n",
       "      <td>...</td>\n",
       "      <td>...</td>\n",
       "      <td>...</td>\n",
       "      <td>...</td>\n",
       "      <td>...</td>\n",
       "      <td>...</td>\n",
       "      <td>...</td>\n",
       "      <td>...</td>\n",
       "      <td>...</td>\n",
       "      <td>...</td>\n",
       "      <td>...</td>\n",
       "      <td>...</td>\n",
       "      <td>...</td>\n",
       "      <td>...</td>\n",
       "      <td>...</td>\n",
       "      <td>...</td>\n",
       "      <td>...</td>\n",
       "      <td>...</td>\n",
       "      <td>...</td>\n",
       "      <td>...</td>\n",
       "      <td>...</td>\n",
       "    </tr>\n",
       "    <tr>\n",
       "      <th>5144</th>\n",
       "      <td>11.245652</td>\n",
       "      <td>124.998792</td>\n",
       "      <td>62.50</td>\n",
       "      <td>2021</td>\n",
       "      <td>0</td>\n",
       "      <td>1</td>\n",
       "      <td>0</td>\n",
       "      <td>0</td>\n",
       "      <td>0</td>\n",
       "      <td>0</td>\n",
       "      <td>...</td>\n",
       "      <td>0</td>\n",
       "      <td>1</td>\n",
       "      <td>0</td>\n",
       "      <td>0</td>\n",
       "      <td>0</td>\n",
       "      <td>0</td>\n",
       "      <td>0</td>\n",
       "      <td>0</td>\n",
       "      <td>0</td>\n",
       "      <td>0</td>\n",
       "    </tr>\n",
       "    <tr>\n",
       "      <th>5145</th>\n",
       "      <td>8.477437</td>\n",
       "      <td>124.651647</td>\n",
       "      <td>47.25</td>\n",
       "      <td>2021</td>\n",
       "      <td>0</td>\n",
       "      <td>1</td>\n",
       "      <td>0</td>\n",
       "      <td>0</td>\n",
       "      <td>0</td>\n",
       "      <td>0</td>\n",
       "      <td>...</td>\n",
       "      <td>0</td>\n",
       "      <td>0</td>\n",
       "      <td>1</td>\n",
       "      <td>0</td>\n",
       "      <td>0</td>\n",
       "      <td>0</td>\n",
       "      <td>0</td>\n",
       "      <td>0</td>\n",
       "      <td>0</td>\n",
       "      <td>0</td>\n",
       "    </tr>\n",
       "    <tr>\n",
       "      <th>5146</th>\n",
       "      <td>7.180000</td>\n",
       "      <td>125.440000</td>\n",
       "      <td>41.50</td>\n",
       "      <td>2021</td>\n",
       "      <td>0</td>\n",
       "      <td>1</td>\n",
       "      <td>0</td>\n",
       "      <td>0</td>\n",
       "      <td>0</td>\n",
       "      <td>0</td>\n",
       "      <td>...</td>\n",
       "      <td>0</td>\n",
       "      <td>0</td>\n",
       "      <td>0</td>\n",
       "      <td>0</td>\n",
       "      <td>0</td>\n",
       "      <td>0</td>\n",
       "      <td>0</td>\n",
       "      <td>0</td>\n",
       "      <td>0</td>\n",
       "      <td>0</td>\n",
       "    </tr>\n",
       "    <tr>\n",
       "      <th>5147</th>\n",
       "      <td>7.012572</td>\n",
       "      <td>125.089988</td>\n",
       "      <td>42.56</td>\n",
       "      <td>2021</td>\n",
       "      <td>0</td>\n",
       "      <td>1</td>\n",
       "      <td>0</td>\n",
       "      <td>0</td>\n",
       "      <td>0</td>\n",
       "      <td>0</td>\n",
       "      <td>...</td>\n",
       "      <td>0</td>\n",
       "      <td>0</td>\n",
       "      <td>0</td>\n",
       "      <td>1</td>\n",
       "      <td>0</td>\n",
       "      <td>0</td>\n",
       "      <td>0</td>\n",
       "      <td>0</td>\n",
       "      <td>0</td>\n",
       "      <td>1</td>\n",
       "    </tr>\n",
       "    <tr>\n",
       "      <th>5148</th>\n",
       "      <td>8.957268</td>\n",
       "      <td>125.534029</td>\n",
       "      <td>50.92</td>\n",
       "      <td>2021</td>\n",
       "      <td>0</td>\n",
       "      <td>1</td>\n",
       "      <td>0</td>\n",
       "      <td>0</td>\n",
       "      <td>0</td>\n",
       "      <td>0</td>\n",
       "      <td>...</td>\n",
       "      <td>0</td>\n",
       "      <td>0</td>\n",
       "      <td>0</td>\n",
       "      <td>0</td>\n",
       "      <td>1</td>\n",
       "      <td>0</td>\n",
       "      <td>0</td>\n",
       "      <td>0</td>\n",
       "      <td>0</td>\n",
       "      <td>0</td>\n",
       "    </tr>\n",
       "  </tbody>\n",
       "</table>\n",
       "<p>5149 rows × 120 columns</p>\n",
       "</div>"
      ],
      "text/plain": [
       "       latitude   longitude  price  year  1  2  3  4  5  6  ...  Naga City  \\\n",
       "0     14.604167  120.982222  20.00  2000  1  0  0  0  0  0  ...          0   \n",
       "1     14.604167  120.982222  18.35  2000  1  0  0  0  0  0  ...          0   \n",
       "2     15.541500  121.084800  19.00  2000  1  0  0  0  0  0  ...          0   \n",
       "3     15.541500  121.084800  18.00  2000  1  0  0  0  0  0  ...          0   \n",
       "4     10.696944  122.564444  20.40  2000  1  0  0  0  0  0  ...          0   \n",
       "...         ...         ...    ...   ... .. .. .. .. .. ..  ...        ...   \n",
       "5144  11.245652  124.998792  62.50  2021  0  1  0  0  0  0  ...          0   \n",
       "5145   8.477437  124.651647  47.25  2021  0  1  0  0  0  0  ...          0   \n",
       "5146   7.180000  125.440000  41.50  2021  0  1  0  0  0  0  ...          0   \n",
       "5147   7.012572  125.089988  42.56  2021  0  1  0  0  0  0  ...          0   \n",
       "5148   8.957268  125.534029  50.92  2021  0  1  0  0  0  0  ...          0   \n",
       "\n",
       "      Tacloban City  Cagayan de Oro City  Kidapawan City  Butuan City  \\\n",
       "0                 0                    0               0            0   \n",
       "1                 0                    0               0            0   \n",
       "2                 0                    0               0            0   \n",
       "3                 0                    0               0            0   \n",
       "4                 0                    0               0            0   \n",
       "...             ...                  ...             ...          ...   \n",
       "5144              1                    0               0            0   \n",
       "5145              0                    1               0            0   \n",
       "5146              0                    0               0            0   \n",
       "5147              0                    0               1            0   \n",
       "5148              0                    0               0            1   \n",
       "\n",
       "      Calapan City  Metropolitan Manila  La Union  Compostela Valley  \\\n",
       "0                0                    1         0                  0   \n",
       "1                0                    1         0                  0   \n",
       "2                0                    0         0                  0   \n",
       "3                0                    0         0                  0   \n",
       "4                0                    0         0                  0   \n",
       "...            ...                  ...       ...                ...   \n",
       "5144             0                    0         0                  0   \n",
       "5145             0                    0         0                  0   \n",
       "5146             0                    0         0                  0   \n",
       "5147             0                    0         0                  0   \n",
       "5148             0                    0         0                  0   \n",
       "\n",
       "      North Cotabato  \n",
       "0                  0  \n",
       "1                  0  \n",
       "2                  0  \n",
       "3                  0  \n",
       "4                  0  \n",
       "...              ...  \n",
       "5144               0  \n",
       "5145               0  \n",
       "5146               0  \n",
       "5147               1  \n",
       "5148               0  \n",
       "\n",
       "[5149 rows x 120 columns]"
      ]
     },
     "execution_count": 1,
     "metadata": {},
     "output_type": "execute_result"
    }
   ],
   "source": [
    "import pandas as pd\n",
    "import seaborn as sns\n",
    "import matplotlib.pyplot as plt\n",
    "\n",
    "#read from csv\n",
    "df=pd.read_csv(\"FEATURED_RICE.csv\")\n",
    "df\n",
    "\n",
    "\n"
   ]
  },
  {
   "cell_type": "code",
   "execution_count": 2,
   "id": "c8cb4088-eccc-4333-9abe-c99b5a6f515e",
   "metadata": {},
   "outputs": [],
   "source": [
    "\n",
    "from sklearn.model_selection import train_test_split\n",
    "from sklearn.linear_model import LinearRegression\n",
    "from sklearn.linear_model import Lasso\n",
    "from sklearn import metrics"
   ]
  },
  {
   "cell_type": "code",
   "execution_count": 3,
   "id": "1145ae6d-e904-4a24-b673-8306b3097f72",
   "metadata": {},
   "outputs": [],
   "source": [
    "X = df.drop(['price'],axis=1)\n",
    "Y = df['price']"
   ]
  },
  {
   "cell_type": "code",
   "execution_count": 4,
   "id": "d461af3d-8825-4003-9c95-10294c0a4479",
   "metadata": {},
   "outputs": [
    {
     "data": {
      "text/html": [
       "<div>\n",
       "<style scoped>\n",
       "    .dataframe tbody tr th:only-of-type {\n",
       "        vertical-align: middle;\n",
       "    }\n",
       "\n",
       "    .dataframe tbody tr th {\n",
       "        vertical-align: top;\n",
       "    }\n",
       "\n",
       "    .dataframe thead th {\n",
       "        text-align: right;\n",
       "    }\n",
       "</style>\n",
       "<table border=\"1\" class=\"dataframe\">\n",
       "  <thead>\n",
       "    <tr style=\"text-align: right;\">\n",
       "      <th></th>\n",
       "      <th>latitude</th>\n",
       "      <th>longitude</th>\n",
       "      <th>year</th>\n",
       "      <th>1</th>\n",
       "      <th>2</th>\n",
       "      <th>3</th>\n",
       "      <th>4</th>\n",
       "      <th>5</th>\n",
       "      <th>6</th>\n",
       "      <th>7</th>\n",
       "      <th>...</th>\n",
       "      <th>Naga City</th>\n",
       "      <th>Tacloban City</th>\n",
       "      <th>Cagayan de Oro City</th>\n",
       "      <th>Kidapawan City</th>\n",
       "      <th>Butuan City</th>\n",
       "      <th>Calapan City</th>\n",
       "      <th>Metropolitan Manila</th>\n",
       "      <th>La Union</th>\n",
       "      <th>Compostela Valley</th>\n",
       "      <th>North Cotabato</th>\n",
       "    </tr>\n",
       "  </thead>\n",
       "  <tbody>\n",
       "    <tr>\n",
       "      <th>0</th>\n",
       "      <td>14.604167</td>\n",
       "      <td>120.982222</td>\n",
       "      <td>2000</td>\n",
       "      <td>1</td>\n",
       "      <td>0</td>\n",
       "      <td>0</td>\n",
       "      <td>0</td>\n",
       "      <td>0</td>\n",
       "      <td>0</td>\n",
       "      <td>0</td>\n",
       "      <td>...</td>\n",
       "      <td>0</td>\n",
       "      <td>0</td>\n",
       "      <td>0</td>\n",
       "      <td>0</td>\n",
       "      <td>0</td>\n",
       "      <td>0</td>\n",
       "      <td>1</td>\n",
       "      <td>0</td>\n",
       "      <td>0</td>\n",
       "      <td>0</td>\n",
       "    </tr>\n",
       "    <tr>\n",
       "      <th>1</th>\n",
       "      <td>14.604167</td>\n",
       "      <td>120.982222</td>\n",
       "      <td>2000</td>\n",
       "      <td>1</td>\n",
       "      <td>0</td>\n",
       "      <td>0</td>\n",
       "      <td>0</td>\n",
       "      <td>0</td>\n",
       "      <td>0</td>\n",
       "      <td>0</td>\n",
       "      <td>...</td>\n",
       "      <td>0</td>\n",
       "      <td>0</td>\n",
       "      <td>0</td>\n",
       "      <td>0</td>\n",
       "      <td>0</td>\n",
       "      <td>0</td>\n",
       "      <td>1</td>\n",
       "      <td>0</td>\n",
       "      <td>0</td>\n",
       "      <td>0</td>\n",
       "    </tr>\n",
       "    <tr>\n",
       "      <th>2</th>\n",
       "      <td>15.541500</td>\n",
       "      <td>121.084800</td>\n",
       "      <td>2000</td>\n",
       "      <td>1</td>\n",
       "      <td>0</td>\n",
       "      <td>0</td>\n",
       "      <td>0</td>\n",
       "      <td>0</td>\n",
       "      <td>0</td>\n",
       "      <td>0</td>\n",
       "      <td>...</td>\n",
       "      <td>0</td>\n",
       "      <td>0</td>\n",
       "      <td>0</td>\n",
       "      <td>0</td>\n",
       "      <td>0</td>\n",
       "      <td>0</td>\n",
       "      <td>0</td>\n",
       "      <td>0</td>\n",
       "      <td>0</td>\n",
       "      <td>0</td>\n",
       "    </tr>\n",
       "    <tr>\n",
       "      <th>3</th>\n",
       "      <td>15.541500</td>\n",
       "      <td>121.084800</td>\n",
       "      <td>2000</td>\n",
       "      <td>1</td>\n",
       "      <td>0</td>\n",
       "      <td>0</td>\n",
       "      <td>0</td>\n",
       "      <td>0</td>\n",
       "      <td>0</td>\n",
       "      <td>0</td>\n",
       "      <td>...</td>\n",
       "      <td>0</td>\n",
       "      <td>0</td>\n",
       "      <td>0</td>\n",
       "      <td>0</td>\n",
       "      <td>0</td>\n",
       "      <td>0</td>\n",
       "      <td>0</td>\n",
       "      <td>0</td>\n",
       "      <td>0</td>\n",
       "      <td>0</td>\n",
       "    </tr>\n",
       "    <tr>\n",
       "      <th>4</th>\n",
       "      <td>10.696944</td>\n",
       "      <td>122.564444</td>\n",
       "      <td>2000</td>\n",
       "      <td>1</td>\n",
       "      <td>0</td>\n",
       "      <td>0</td>\n",
       "      <td>0</td>\n",
       "      <td>0</td>\n",
       "      <td>0</td>\n",
       "      <td>0</td>\n",
       "      <td>...</td>\n",
       "      <td>0</td>\n",
       "      <td>0</td>\n",
       "      <td>0</td>\n",
       "      <td>0</td>\n",
       "      <td>0</td>\n",
       "      <td>0</td>\n",
       "      <td>0</td>\n",
       "      <td>0</td>\n",
       "      <td>0</td>\n",
       "      <td>0</td>\n",
       "    </tr>\n",
       "    <tr>\n",
       "      <th>...</th>\n",
       "      <td>...</td>\n",
       "      <td>...</td>\n",
       "      <td>...</td>\n",
       "      <td>...</td>\n",
       "      <td>...</td>\n",
       "      <td>...</td>\n",
       "      <td>...</td>\n",
       "      <td>...</td>\n",
       "      <td>...</td>\n",
       "      <td>...</td>\n",
       "      <td>...</td>\n",
       "      <td>...</td>\n",
       "      <td>...</td>\n",
       "      <td>...</td>\n",
       "      <td>...</td>\n",
       "      <td>...</td>\n",
       "      <td>...</td>\n",
       "      <td>...</td>\n",
       "      <td>...</td>\n",
       "      <td>...</td>\n",
       "      <td>...</td>\n",
       "    </tr>\n",
       "    <tr>\n",
       "      <th>5144</th>\n",
       "      <td>11.245652</td>\n",
       "      <td>124.998792</td>\n",
       "      <td>2021</td>\n",
       "      <td>0</td>\n",
       "      <td>1</td>\n",
       "      <td>0</td>\n",
       "      <td>0</td>\n",
       "      <td>0</td>\n",
       "      <td>0</td>\n",
       "      <td>0</td>\n",
       "      <td>...</td>\n",
       "      <td>0</td>\n",
       "      <td>1</td>\n",
       "      <td>0</td>\n",
       "      <td>0</td>\n",
       "      <td>0</td>\n",
       "      <td>0</td>\n",
       "      <td>0</td>\n",
       "      <td>0</td>\n",
       "      <td>0</td>\n",
       "      <td>0</td>\n",
       "    </tr>\n",
       "    <tr>\n",
       "      <th>5145</th>\n",
       "      <td>8.477437</td>\n",
       "      <td>124.651647</td>\n",
       "      <td>2021</td>\n",
       "      <td>0</td>\n",
       "      <td>1</td>\n",
       "      <td>0</td>\n",
       "      <td>0</td>\n",
       "      <td>0</td>\n",
       "      <td>0</td>\n",
       "      <td>0</td>\n",
       "      <td>...</td>\n",
       "      <td>0</td>\n",
       "      <td>0</td>\n",
       "      <td>1</td>\n",
       "      <td>0</td>\n",
       "      <td>0</td>\n",
       "      <td>0</td>\n",
       "      <td>0</td>\n",
       "      <td>0</td>\n",
       "      <td>0</td>\n",
       "      <td>0</td>\n",
       "    </tr>\n",
       "    <tr>\n",
       "      <th>5146</th>\n",
       "      <td>7.180000</td>\n",
       "      <td>125.440000</td>\n",
       "      <td>2021</td>\n",
       "      <td>0</td>\n",
       "      <td>1</td>\n",
       "      <td>0</td>\n",
       "      <td>0</td>\n",
       "      <td>0</td>\n",
       "      <td>0</td>\n",
       "      <td>0</td>\n",
       "      <td>...</td>\n",
       "      <td>0</td>\n",
       "      <td>0</td>\n",
       "      <td>0</td>\n",
       "      <td>0</td>\n",
       "      <td>0</td>\n",
       "      <td>0</td>\n",
       "      <td>0</td>\n",
       "      <td>0</td>\n",
       "      <td>0</td>\n",
       "      <td>0</td>\n",
       "    </tr>\n",
       "    <tr>\n",
       "      <th>5147</th>\n",
       "      <td>7.012572</td>\n",
       "      <td>125.089988</td>\n",
       "      <td>2021</td>\n",
       "      <td>0</td>\n",
       "      <td>1</td>\n",
       "      <td>0</td>\n",
       "      <td>0</td>\n",
       "      <td>0</td>\n",
       "      <td>0</td>\n",
       "      <td>0</td>\n",
       "      <td>...</td>\n",
       "      <td>0</td>\n",
       "      <td>0</td>\n",
       "      <td>0</td>\n",
       "      <td>1</td>\n",
       "      <td>0</td>\n",
       "      <td>0</td>\n",
       "      <td>0</td>\n",
       "      <td>0</td>\n",
       "      <td>0</td>\n",
       "      <td>1</td>\n",
       "    </tr>\n",
       "    <tr>\n",
       "      <th>5148</th>\n",
       "      <td>8.957268</td>\n",
       "      <td>125.534029</td>\n",
       "      <td>2021</td>\n",
       "      <td>0</td>\n",
       "      <td>1</td>\n",
       "      <td>0</td>\n",
       "      <td>0</td>\n",
       "      <td>0</td>\n",
       "      <td>0</td>\n",
       "      <td>0</td>\n",
       "      <td>...</td>\n",
       "      <td>0</td>\n",
       "      <td>0</td>\n",
       "      <td>0</td>\n",
       "      <td>0</td>\n",
       "      <td>1</td>\n",
       "      <td>0</td>\n",
       "      <td>0</td>\n",
       "      <td>0</td>\n",
       "      <td>0</td>\n",
       "      <td>0</td>\n",
       "    </tr>\n",
       "  </tbody>\n",
       "</table>\n",
       "<p>5149 rows × 119 columns</p>\n",
       "</div>"
      ],
      "text/plain": [
       "       latitude   longitude  year  1  2  3  4  5  6  7  ...  Naga City  \\\n",
       "0     14.604167  120.982222  2000  1  0  0  0  0  0  0  ...          0   \n",
       "1     14.604167  120.982222  2000  1  0  0  0  0  0  0  ...          0   \n",
       "2     15.541500  121.084800  2000  1  0  0  0  0  0  0  ...          0   \n",
       "3     15.541500  121.084800  2000  1  0  0  0  0  0  0  ...          0   \n",
       "4     10.696944  122.564444  2000  1  0  0  0  0  0  0  ...          0   \n",
       "...         ...         ...   ... .. .. .. .. .. .. ..  ...        ...   \n",
       "5144  11.245652  124.998792  2021  0  1  0  0  0  0  0  ...          0   \n",
       "5145   8.477437  124.651647  2021  0  1  0  0  0  0  0  ...          0   \n",
       "5146   7.180000  125.440000  2021  0  1  0  0  0  0  0  ...          0   \n",
       "5147   7.012572  125.089988  2021  0  1  0  0  0  0  0  ...          0   \n",
       "5148   8.957268  125.534029  2021  0  1  0  0  0  0  0  ...          0   \n",
       "\n",
       "      Tacloban City  Cagayan de Oro City  Kidapawan City  Butuan City  \\\n",
       "0                 0                    0               0            0   \n",
       "1                 0                    0               0            0   \n",
       "2                 0                    0               0            0   \n",
       "3                 0                    0               0            0   \n",
       "4                 0                    0               0            0   \n",
       "...             ...                  ...             ...          ...   \n",
       "5144              1                    0               0            0   \n",
       "5145              0                    1               0            0   \n",
       "5146              0                    0               0            0   \n",
       "5147              0                    0               1            0   \n",
       "5148              0                    0               0            1   \n",
       "\n",
       "      Calapan City  Metropolitan Manila  La Union  Compostela Valley  \\\n",
       "0                0                    1         0                  0   \n",
       "1                0                    1         0                  0   \n",
       "2                0                    0         0                  0   \n",
       "3                0                    0         0                  0   \n",
       "4                0                    0         0                  0   \n",
       "...            ...                  ...       ...                ...   \n",
       "5144             0                    0         0                  0   \n",
       "5145             0                    0         0                  0   \n",
       "5146             0                    0         0                  0   \n",
       "5147             0                    0         0                  0   \n",
       "5148             0                    0         0                  0   \n",
       "\n",
       "      North Cotabato  \n",
       "0                  0  \n",
       "1                  0  \n",
       "2                  0  \n",
       "3                  0  \n",
       "4                  0  \n",
       "...              ...  \n",
       "5144               0  \n",
       "5145               0  \n",
       "5146               0  \n",
       "5147               1  \n",
       "5148               0  \n",
       "\n",
       "[5149 rows x 119 columns]"
      ]
     },
     "execution_count": 4,
     "metadata": {},
     "output_type": "execute_result"
    }
   ],
   "source": [
    "X"
   ]
  },
  {
   "cell_type": "code",
   "execution_count": 5,
   "id": "095619fe-5937-467c-9cff-cbd3681a9f99",
   "metadata": {},
   "outputs": [
    {
     "data": {
      "text/plain": [
       "0       20.00\n",
       "1       18.35\n",
       "2       19.00\n",
       "3       18.00\n",
       "4       20.40\n",
       "        ...  \n",
       "5144    62.50\n",
       "5145    47.25\n",
       "5146    41.50\n",
       "5147    42.56\n",
       "5148    50.92\n",
       "Name: price, Length: 5149, dtype: float64"
      ]
     },
     "execution_count": 5,
     "metadata": {},
     "output_type": "execute_result"
    }
   ],
   "source": [
    "Y\n"
   ]
  },
  {
   "cell_type": "code",
   "execution_count": 6,
   "id": "d8a76119-7755-4e68-aa38-197bc4b60b3f",
   "metadata": {},
   "outputs": [],
   "source": [
    "X_train, X_test, Y_train, Y_test = train_test_split(X, Y, test_size = 0.25, random_state=42)"
   ]
  },
  {
   "cell_type": "code",
   "execution_count": 7,
   "id": "d6a87e29-f1ee-4ea5-bc5f-37a3b27d2043",
   "metadata": {},
   "outputs": [
    {
     "data": {
      "text/html": [
       "<div>\n",
       "<style scoped>\n",
       "    .dataframe tbody tr th:only-of-type {\n",
       "        vertical-align: middle;\n",
       "    }\n",
       "\n",
       "    .dataframe tbody tr th {\n",
       "        vertical-align: top;\n",
       "    }\n",
       "\n",
       "    .dataframe thead th {\n",
       "        text-align: right;\n",
       "    }\n",
       "</style>\n",
       "<table border=\"1\" class=\"dataframe\">\n",
       "  <thead>\n",
       "    <tr style=\"text-align: right;\">\n",
       "      <th></th>\n",
       "      <th>latitude</th>\n",
       "      <th>longitude</th>\n",
       "      <th>year</th>\n",
       "      <th>1</th>\n",
       "      <th>2</th>\n",
       "      <th>3</th>\n",
       "      <th>4</th>\n",
       "      <th>5</th>\n",
       "      <th>6</th>\n",
       "      <th>7</th>\n",
       "      <th>...</th>\n",
       "      <th>Naga City</th>\n",
       "      <th>Tacloban City</th>\n",
       "      <th>Cagayan de Oro City</th>\n",
       "      <th>Kidapawan City</th>\n",
       "      <th>Butuan City</th>\n",
       "      <th>Calapan City</th>\n",
       "      <th>Metropolitan Manila</th>\n",
       "      <th>La Union</th>\n",
       "      <th>Compostela Valley</th>\n",
       "      <th>North Cotabato</th>\n",
       "    </tr>\n",
       "  </thead>\n",
       "  <tbody>\n",
       "    <tr>\n",
       "      <th>4320</th>\n",
       "      <td>10.009063</td>\n",
       "      <td>125.568834</td>\n",
       "      <td>2021</td>\n",
       "      <td>0</td>\n",
       "      <td>0</td>\n",
       "      <td>0</td>\n",
       "      <td>0</td>\n",
       "      <td>0</td>\n",
       "      <td>0</td>\n",
       "      <td>0</td>\n",
       "      <td>...</td>\n",
       "      <td>0</td>\n",
       "      <td>0</td>\n",
       "      <td>0</td>\n",
       "      <td>0</td>\n",
       "      <td>0</td>\n",
       "      <td>0</td>\n",
       "      <td>0</td>\n",
       "      <td>0</td>\n",
       "      <td>0</td>\n",
       "      <td>0</td>\n",
       "    </tr>\n",
       "    <tr>\n",
       "      <th>3215</th>\n",
       "      <td>13.933436</td>\n",
       "      <td>121.614564</td>\n",
       "      <td>2020</td>\n",
       "      <td>0</td>\n",
       "      <td>0</td>\n",
       "      <td>0</td>\n",
       "      <td>0</td>\n",
       "      <td>0</td>\n",
       "      <td>0</td>\n",
       "      <td>0</td>\n",
       "      <td>...</td>\n",
       "      <td>0</td>\n",
       "      <td>0</td>\n",
       "      <td>0</td>\n",
       "      <td>0</td>\n",
       "      <td>0</td>\n",
       "      <td>0</td>\n",
       "      <td>0</td>\n",
       "      <td>0</td>\n",
       "      <td>0</td>\n",
       "      <td>0</td>\n",
       "    </tr>\n",
       "    <tr>\n",
       "      <th>5124</th>\n",
       "      <td>10.696944</td>\n",
       "      <td>122.564444</td>\n",
       "      <td>2021</td>\n",
       "      <td>1</td>\n",
       "      <td>0</td>\n",
       "      <td>0</td>\n",
       "      <td>0</td>\n",
       "      <td>0</td>\n",
       "      <td>0</td>\n",
       "      <td>0</td>\n",
       "      <td>...</td>\n",
       "      <td>0</td>\n",
       "      <td>0</td>\n",
       "      <td>0</td>\n",
       "      <td>0</td>\n",
       "      <td>0</td>\n",
       "      <td>0</td>\n",
       "      <td>0</td>\n",
       "      <td>0</td>\n",
       "      <td>0</td>\n",
       "      <td>0</td>\n",
       "    </tr>\n",
       "    <tr>\n",
       "      <th>3779</th>\n",
       "      <td>8.477437</td>\n",
       "      <td>124.651647</td>\n",
       "      <td>2021</td>\n",
       "      <td>1</td>\n",
       "      <td>0</td>\n",
       "      <td>0</td>\n",
       "      <td>0</td>\n",
       "      <td>0</td>\n",
       "      <td>0</td>\n",
       "      <td>0</td>\n",
       "      <td>...</td>\n",
       "      <td>0</td>\n",
       "      <td>0</td>\n",
       "      <td>0</td>\n",
       "      <td>0</td>\n",
       "      <td>0</td>\n",
       "      <td>0</td>\n",
       "      <td>0</td>\n",
       "      <td>0</td>\n",
       "      <td>0</td>\n",
       "      <td>0</td>\n",
       "    </tr>\n",
       "    <tr>\n",
       "      <th>4644</th>\n",
       "      <td>16.486093</td>\n",
       "      <td>121.146518</td>\n",
       "      <td>2022</td>\n",
       "      <td>1</td>\n",
       "      <td>0</td>\n",
       "      <td>0</td>\n",
       "      <td>0</td>\n",
       "      <td>0</td>\n",
       "      <td>0</td>\n",
       "      <td>0</td>\n",
       "      <td>...</td>\n",
       "      <td>0</td>\n",
       "      <td>0</td>\n",
       "      <td>0</td>\n",
       "      <td>0</td>\n",
       "      <td>0</td>\n",
       "      <td>0</td>\n",
       "      <td>0</td>\n",
       "      <td>0</td>\n",
       "      <td>0</td>\n",
       "      <td>0</td>\n",
       "    </tr>\n",
       "    <tr>\n",
       "      <th>...</th>\n",
       "      <td>...</td>\n",
       "      <td>...</td>\n",
       "      <td>...</td>\n",
       "      <td>...</td>\n",
       "      <td>...</td>\n",
       "      <td>...</td>\n",
       "      <td>...</td>\n",
       "      <td>...</td>\n",
       "      <td>...</td>\n",
       "      <td>...</td>\n",
       "      <td>...</td>\n",
       "      <td>...</td>\n",
       "      <td>...</td>\n",
       "      <td>...</td>\n",
       "      <td>...</td>\n",
       "      <td>...</td>\n",
       "      <td>...</td>\n",
       "      <td>...</td>\n",
       "      <td>...</td>\n",
       "      <td>...</td>\n",
       "      <td>...</td>\n",
       "    </tr>\n",
       "    <tr>\n",
       "      <th>4426</th>\n",
       "      <td>14.422901</td>\n",
       "      <td>120.941070</td>\n",
       "      <td>2021</td>\n",
       "      <td>0</td>\n",
       "      <td>0</td>\n",
       "      <td>0</td>\n",
       "      <td>0</td>\n",
       "      <td>0</td>\n",
       "      <td>0</td>\n",
       "      <td>0</td>\n",
       "      <td>...</td>\n",
       "      <td>0</td>\n",
       "      <td>0</td>\n",
       "      <td>0</td>\n",
       "      <td>0</td>\n",
       "      <td>0</td>\n",
       "      <td>0</td>\n",
       "      <td>0</td>\n",
       "      <td>0</td>\n",
       "      <td>0</td>\n",
       "      <td>0</td>\n",
       "    </tr>\n",
       "    <tr>\n",
       "      <th>466</th>\n",
       "      <td>14.604167</td>\n",
       "      <td>120.982222</td>\n",
       "      <td>2003</td>\n",
       "      <td>0</td>\n",
       "      <td>0</td>\n",
       "      <td>0</td>\n",
       "      <td>1</td>\n",
       "      <td>0</td>\n",
       "      <td>0</td>\n",
       "      <td>0</td>\n",
       "      <td>...</td>\n",
       "      <td>0</td>\n",
       "      <td>0</td>\n",
       "      <td>0</td>\n",
       "      <td>0</td>\n",
       "      <td>0</td>\n",
       "      <td>0</td>\n",
       "      <td>1</td>\n",
       "      <td>0</td>\n",
       "      <td>0</td>\n",
       "      <td>0</td>\n",
       "    </tr>\n",
       "    <tr>\n",
       "      <th>3092</th>\n",
       "      <td>14.843102</td>\n",
       "      <td>120.814215</td>\n",
       "      <td>2020</td>\n",
       "      <td>0</td>\n",
       "      <td>0</td>\n",
       "      <td>0</td>\n",
       "      <td>0</td>\n",
       "      <td>0</td>\n",
       "      <td>0</td>\n",
       "      <td>1</td>\n",
       "      <td>...</td>\n",
       "      <td>0</td>\n",
       "      <td>0</td>\n",
       "      <td>0</td>\n",
       "      <td>0</td>\n",
       "      <td>0</td>\n",
       "      <td>0</td>\n",
       "      <td>0</td>\n",
       "      <td>0</td>\n",
       "      <td>0</td>\n",
       "      <td>0</td>\n",
       "    </tr>\n",
       "    <tr>\n",
       "      <th>3772</th>\n",
       "      <td>12.495440</td>\n",
       "      <td>124.640822</td>\n",
       "      <td>2021</td>\n",
       "      <td>1</td>\n",
       "      <td>0</td>\n",
       "      <td>0</td>\n",
       "      <td>0</td>\n",
       "      <td>0</td>\n",
       "      <td>0</td>\n",
       "      <td>0</td>\n",
       "      <td>...</td>\n",
       "      <td>0</td>\n",
       "      <td>0</td>\n",
       "      <td>0</td>\n",
       "      <td>0</td>\n",
       "      <td>0</td>\n",
       "      <td>0</td>\n",
       "      <td>0</td>\n",
       "      <td>0</td>\n",
       "      <td>0</td>\n",
       "      <td>0</td>\n",
       "    </tr>\n",
       "    <tr>\n",
       "      <th>860</th>\n",
       "      <td>14.604167</td>\n",
       "      <td>120.982222</td>\n",
       "      <td>2006</td>\n",
       "      <td>1</td>\n",
       "      <td>0</td>\n",
       "      <td>0</td>\n",
       "      <td>0</td>\n",
       "      <td>0</td>\n",
       "      <td>0</td>\n",
       "      <td>0</td>\n",
       "      <td>...</td>\n",
       "      <td>0</td>\n",
       "      <td>0</td>\n",
       "      <td>0</td>\n",
       "      <td>0</td>\n",
       "      <td>0</td>\n",
       "      <td>0</td>\n",
       "      <td>1</td>\n",
       "      <td>0</td>\n",
       "      <td>0</td>\n",
       "      <td>0</td>\n",
       "    </tr>\n",
       "  </tbody>\n",
       "</table>\n",
       "<p>3861 rows × 119 columns</p>\n",
       "</div>"
      ],
      "text/plain": [
       "       latitude   longitude  year  1  2  3  4  5  6  7  ...  Naga City  \\\n",
       "4320  10.009063  125.568834  2021  0  0  0  0  0  0  0  ...          0   \n",
       "3215  13.933436  121.614564  2020  0  0  0  0  0  0  0  ...          0   \n",
       "5124  10.696944  122.564444  2021  1  0  0  0  0  0  0  ...          0   \n",
       "3779   8.477437  124.651647  2021  1  0  0  0  0  0  0  ...          0   \n",
       "4644  16.486093  121.146518  2022  1  0  0  0  0  0  0  ...          0   \n",
       "...         ...         ...   ... .. .. .. .. .. .. ..  ...        ...   \n",
       "4426  14.422901  120.941070  2021  0  0  0  0  0  0  0  ...          0   \n",
       "466   14.604167  120.982222  2003  0  0  0  1  0  0  0  ...          0   \n",
       "3092  14.843102  120.814215  2020  0  0  0  0  0  0  1  ...          0   \n",
       "3772  12.495440  124.640822  2021  1  0  0  0  0  0  0  ...          0   \n",
       "860   14.604167  120.982222  2006  1  0  0  0  0  0  0  ...          0   \n",
       "\n",
       "      Tacloban City  Cagayan de Oro City  Kidapawan City  Butuan City  \\\n",
       "4320              0                    0               0            0   \n",
       "3215              0                    0               0            0   \n",
       "5124              0                    0               0            0   \n",
       "3779              0                    0               0            0   \n",
       "4644              0                    0               0            0   \n",
       "...             ...                  ...             ...          ...   \n",
       "4426              0                    0               0            0   \n",
       "466               0                    0               0            0   \n",
       "3092              0                    0               0            0   \n",
       "3772              0                    0               0            0   \n",
       "860               0                    0               0            0   \n",
       "\n",
       "      Calapan City  Metropolitan Manila  La Union  Compostela Valley  \\\n",
       "4320             0                    0         0                  0   \n",
       "3215             0                    0         0                  0   \n",
       "5124             0                    0         0                  0   \n",
       "3779             0                    0         0                  0   \n",
       "4644             0                    0         0                  0   \n",
       "...            ...                  ...       ...                ...   \n",
       "4426             0                    0         0                  0   \n",
       "466              0                    1         0                  0   \n",
       "3092             0                    0         0                  0   \n",
       "3772             0                    0         0                  0   \n",
       "860              0                    1         0                  0   \n",
       "\n",
       "      North Cotabato  \n",
       "4320               0  \n",
       "3215               0  \n",
       "5124               0  \n",
       "3779               0  \n",
       "4644               0  \n",
       "...              ...  \n",
       "4426               0  \n",
       "466                0  \n",
       "3092               0  \n",
       "3772               0  \n",
       "860                0  \n",
       "\n",
       "[3861 rows x 119 columns]"
      ]
     },
     "execution_count": 7,
     "metadata": {},
     "output_type": "execute_result"
    }
   ],
   "source": [
    "X_train"
   ]
  },
  {
   "cell_type": "markdown",
   "id": "1421a4bf-cd6c-4b9c-8f8d-770e2a5119bf",
   "metadata": {},
   "source": [
    "# LINEAR REGRESSION"
   ]
  },
  {
   "cell_type": "markdown",
   "id": "162f14fc-7980-466c-8c13-09545b9833eb",
   "metadata": {},
   "source": [
    "### Linear Regression Training Set"
   ]
  },
  {
   "cell_type": "code",
   "execution_count": 8,
   "id": "6c99e9b1-64f2-4b18-a846-bed24bde6087",
   "metadata": {},
   "outputs": [],
   "source": [
    "lin_reg_model = LinearRegression()"
   ]
  },
  {
   "cell_type": "code",
   "execution_count": 9,
   "id": "6cc60545-f5d1-4708-9350-79c86e84c396",
   "metadata": {},
   "outputs": [
    {
     "data": {
      "text/plain": [
       "LinearRegression()"
      ]
     },
     "execution_count": 9,
     "metadata": {},
     "output_type": "execute_result"
    }
   ],
   "source": [
    "lin_reg_model.fit(X_train,Y_train)"
   ]
  },
  {
   "cell_type": "code",
   "execution_count": 10,
   "id": "82d36301-2734-4a95-aa6f-0778d0f8c712",
   "metadata": {},
   "outputs": [],
   "source": [
    "lin_train_prediction = lin_reg_model.predict(X_train)"
   ]
  },
  {
   "cell_type": "code",
   "execution_count": 11,
   "id": "9374414a-6b44-4223-bdd7-ff2c3345797e",
   "metadata": {},
   "outputs": [
    {
     "data": {
      "image/png": "[encoded data removed]",
      "text/plain": [
       "<Figure size 432x288 with 1 Axes>"
      ]
     },
     "metadata": {
      "needs_background": "light"
     },
     "output_type": "display_data"
    }
   ],
   "source": [
    "plt.scatter(Y_train, lin_train_prediction)\n",
    "plt.xlabel(\"Actual Price\")\n",
    "plt.ylabel(\"Predicted Price\")\n",
    "plt.title(\" Actual Prices vs Predicted Prices\")\n",
    "plt.show()"
   ]
  },
  {
   "cell_type": "code",
   "execution_count": 12,
   "id": "744b8958-9801-4d2c-8673-8a7656c79889",
   "metadata": {},
   "outputs": [
    {
     "data": {
      "image/png": "[encoded data removed]",
      "text/plain": [
       "<Figure size 432x288 with 1 Axes>"
      ]
     },
     "metadata": {
      "needs_background": "light"
     },
     "output_type": "display_data"
    }
   ],
   "source": [
    "sns.regplot(data=df, x = Y_train, y = lin_train_prediction, ci=None,line_kws={\"color\": \"red\"})\n",
    "plt.ylim(bottom=0)\n",
    "plt.xlim(left=0)\n",
    "plt.xlabel(\"Actual Price\")\n",
    "plt.ylabel(\"Predicted Price\")\n",
    "plt.show()"
   ]
  },
  {
   "cell_type": "markdown",
   "id": "5a2cea3b-3084-41db-bbeb-dc61ef6f56bd",
   "metadata": {},
   "source": [
    "### Linear Regression Training Set Evaluation"
   ]
  },
  {
   "cell_type": "code",
   "execution_count": 13,
   "id": "a331e75d-95f7-4d75-b7fd-80e9bfad8344",
   "metadata": {},
   "outputs": [
    {
     "name": "stdout",
     "output_type": "stream",
     "text": [
      "Lin Train R squared Error :  0.9067501628350519\n"
     ]
    }
   ],
   "source": [
    "lin_train_r2_score = metrics.r2_score(Y_train, lin_train_prediction)\n",
    "print(\"Lin Train R squared Error : \", lin_train_r2_score)"
   ]
  },
  {
   "cell_type": "code",
   "execution_count": 14,
   "id": "29d1475d-8e88-46b1-beac-ce62ffc1c0c2",
   "metadata": {},
   "outputs": [
    {
     "name": "stdout",
     "output_type": "stream",
     "text": [
      "Lin Train RMSE :  13.46590631971609\n"
     ]
    }
   ],
   "source": [
    "lin_train_RMSE_score = metrics.mean_squared_error(Y_train, lin_train_prediction)\n",
    "print(\"Lin Train RMSE : \", lin_train_RMSE_score)"
   ]
  },
  {
   "cell_type": "code",
   "execution_count": 79,
   "id": "63046112-7f59-4c02-b999-0e6f9329ec4e",
   "metadata": {},
   "outputs": [
    {
     "name": "stdout",
     "output_type": "stream",
     "text": [
      "14.52\n",
      "95.97\n"
     ]
    }
   ],
   "source": [
    "ymin = Y.min()\n",
    "ymax = Y.max()\n",
    "print(ymin)\n",
    "print(ymax)"
   ]
  },
  {
   "cell_type": "code",
   "execution_count": 16,
   "id": "5f836b5b-6d90-457c-9fe3-c32e476d0687",
   "metadata": {},
   "outputs": [
    {
     "name": "stdout",
     "output_type": "stream",
     "text": [
      "Lin Train NRMSE :  0.16532727218804286\n"
     ]
    }
   ],
   "source": [
    "lin_train_NRMSE = lin_train_RMSE_score / (ymax - ymin)\n",
    "print(\"Lin Train NRMSE : \", lin_train_NRMSE)"
   ]
  },
  {
   "cell_type": "code",
   "execution_count": 17,
   "id": "bc945b20-1b4e-4d98-8f67-f95801500e62",
   "metadata": {},
   "outputs": [
    {
     "name": "stdout",
     "output_type": "stream",
     "text": [
      "Lin Train MAPE :  0.07529225256798985\n"
     ]
    }
   ],
   "source": [
    "lin_train_MAPE_score = metrics.mean_absolute_percentage_error(Y_train, lin_train_prediction)\n",
    "print(\"Lin Train MAPE : \", lin_train_MAPE_score)"
   ]
  },
  {
   "cell_type": "code",
   "execution_count": 18,
   "id": "2f6b45a7-7015-4ef2-b550-eb190d2eeecf",
   "metadata": {},
   "outputs": [
    {
     "name": "stdout",
     "output_type": "stream",
     "text": [
      "Lin Train MAE :  2.6415758412639514\n"
     ]
    }
   ],
   "source": [
    "lin_train_MAE_score = metrics.mean_absolute_error(Y_train, lin_train_prediction)\n",
    "print(\"Lin Train MAE : \", lin_train_MAE_score)"
   ]
  },
  {
   "cell_type": "markdown",
   "id": "f0bac6ab-3e65-4e3e-8a07-7cd1224d516e",
   "metadata": {},
   "source": [
    "### Linear Regression Testing Set "
   ]
  },
  {
   "cell_type": "code",
   "execution_count": 19,
   "id": "ebca41f6-af35-461c-9b5c-a8f37f16aa47",
   "metadata": {},
   "outputs": [],
   "source": [
    "lin_test_prediction = lin_reg_model.predict(X_test)"
   ]
  },
  {
   "cell_type": "code",
   "execution_count": 20,
   "id": "df448e94-4031-4400-b129-c718037955f1",
   "metadata": {},
   "outputs": [
    {
     "data": {
      "image/png": "[encoded data removed]",
      "text/plain": [
       "<Figure size 432x288 with 1 Axes>"
      ]
     },
     "metadata": {
      "needs_background": "light"
     },
     "output_type": "display_data"
    }
   ],
   "source": [
    "plt.scatter(Y_test, lin_test_prediction)\n",
    "plt.xlabel(\"Actual Price\")\n",
    "plt.ylabel(\"Predicted Price\")\n",
    "plt.title(\" Actual Prices vs Predicted Prices\")\n",
    "plt.show()"
   ]
  },
  {
   "cell_type": "code",
   "execution_count": 21,
   "id": "258f16fd-3e36-4391-abe9-bfa671ea02f3",
   "metadata": {},
   "outputs": [
    {
     "data": {
      "image/png": "[encoded data removed]",
      "text/plain": [
       "<Figure size 432x288 with 1 Axes>"
      ]
     },
     "metadata": {
      "needs_background": "light"
     },
     "output_type": "display_data"
    }
   ],
   "source": [
    "sns.regplot(data=df, x = Y_test, y = lin_test_prediction, ci=None,line_kws={\"color\": \"red\"})\n",
    "plt.ylim(bottom=0)\n",
    "plt.xlim(left=0)\n",
    "plt.xlabel(\"Actual Price\")\n",
    "plt.ylabel(\"Predicted Price\")\n",
    "plt.show()"
   ]
  },
  {
   "cell_type": "markdown",
   "id": "a6be1d95-5968-40b6-b62a-7d6334e4dcda",
   "metadata": {
    "tags": []
   },
   "source": [
    "### Linear Regression Testing Set Evaluation"
   ]
  },
  {
   "cell_type": "code",
   "execution_count": 22,
   "id": "6d68193d-cd9c-4d6c-be9b-8c1a7cbe3a90",
   "metadata": {},
   "outputs": [
    {
     "name": "stdout",
     "output_type": "stream",
     "text": [
      "Lin Test R squared Error :  0.8991438312957087\n"
     ]
    }
   ],
   "source": [
    "lin_test_r2_score = metrics.r2_score(Y_test, lin_test_prediction)\n",
    "print(\"Lin Test R squared Error : \", lin_test_r2_score)"
   ]
  },
  {
   "cell_type": "code",
   "execution_count": 23,
   "id": "4b73e88d-0c90-4f9d-80ab-e5ed97eed5a8",
   "metadata": {},
   "outputs": [
    {
     "name": "stdout",
     "output_type": "stream",
     "text": [
      "Lin Test RMSE :  15.68562535381817\n"
     ]
    }
   ],
   "source": [
    "lin_test_RMSE_score = metrics.mean_squared_error(Y_test, lin_test_prediction)\n",
    "print(\"Lin Test RMSE : \", lin_test_RMSE_score)"
   ]
  },
  {
   "cell_type": "code",
   "execution_count": 24,
   "id": "37d49894-5fe4-42b7-af0d-0ff2afb0bd8f",
   "metadata": {},
   "outputs": [
    {
     "name": "stdout",
     "output_type": "stream",
     "text": [
      "Lin Test NRMSE :  0.1925798079044588\n"
     ]
    }
   ],
   "source": [
    "lin_test_NRMSE = lin_test_RMSE_score / (ymax - ymin)\n",
    "print(\"Lin Test NRMSE : \", lin_test_NRMSE)"
   ]
  },
  {
   "cell_type": "code",
   "execution_count": 25,
   "id": "9f963381-2163-4c03-9ce8-98d7e2ff4ff9",
   "metadata": {},
   "outputs": [
    {
     "name": "stdout",
     "output_type": "stream",
     "text": [
      "Lin Test MAPE :  0.07649407302345183\n"
     ]
    }
   ],
   "source": [
    "lin_test_MAPE_score = metrics.mean_absolute_percentage_error(Y_test, lin_test_prediction)\n",
    "print(\"Lin Test MAPE : \", lin_test_MAPE_score)"
   ]
  },
  {
   "cell_type": "code",
   "execution_count": 26,
   "id": "5e0ac329-f80d-4be0-9593-f09d7f0f97b2",
   "metadata": {},
   "outputs": [
    {
     "name": "stdout",
     "output_type": "stream",
     "text": [
      "Lin Test MAE :  2.6877283288233027\n"
     ]
    }
   ],
   "source": [
    "lin_test_MAE_score = metrics.mean_absolute_error(Y_test, lin_test_prediction)\n",
    "print(\"Lin Test MAE : \", lin_test_MAE_score)"
   ]
  },
  {
   "cell_type": "markdown",
   "id": "055ff7d0-8b5f-4427-a588-4fd0ad64277b",
   "metadata": {},
   "source": [
    "# LASSO REGRESSION"
   ]
  },
  {
   "cell_type": "markdown",
   "id": "de397b51-a102-4f4a-a395-86fc6fc52be4",
   "metadata": {},
   "source": [
    "### Lasso Regression Training Set"
   ]
  },
  {
   "cell_type": "code",
   "execution_count": 27,
   "id": "cc5252a4",
   "metadata": {},
   "outputs": [],
   "source": [
    "lass_reg_model = Lasso()"
   ]
  },
  {
   "cell_type": "code",
   "execution_count": 28,
   "id": "68fe868f",
   "metadata": {},
   "outputs": [
    {
     "data": {
      "text/plain": [
       "Lasso()"
      ]
     },
     "execution_count": 28,
     "metadata": {},
     "output_type": "execute_result"
    }
   ],
   "source": [
    "lass_reg_model.fit(X_train,Y_train)"
   ]
  },
  {
   "cell_type": "code",
   "execution_count": 29,
   "id": "9449aaa8",
   "metadata": {},
   "outputs": [],
   "source": [
    "lass_train_prediction = lass_reg_model.predict(X_train)"
   ]
  },
  {
   "cell_type": "code",
   "execution_count": 30,
   "id": "078760a0",
   "metadata": {},
   "outputs": [
    {
     "data": {
      "image/png": "[encoded data removed]",
      "text/plain": [
       "<Figure size 432x288 with 1 Axes>"
      ]
     },
     "metadata": {
      "needs_background": "light"
     },
     "output_type": "display_data"
    }
   ],
   "source": [
    "plt.scatter(Y_train, lass_train_prediction)\n",
    "plt.xlabel(\"Actual Price\")\n",
    "plt.ylabel(\"Predicted Price\")\n",
    "plt.title(\" Actual Prices vs Predicted Prices\")\n",
    "plt.show()"
   ]
  },
  {
   "cell_type": "code",
   "execution_count": 31,
   "id": "ca8eff7c-ee21-42d7-9884-111238ba15dd",
   "metadata": {},
   "outputs": [
    {
     "data": {
      "image/png": "[encoded data removed]",
      "text/plain": [
       "<Figure size 432x288 with 1 Axes>"
      ]
     },
     "metadata": {
      "needs_background": "light"
     },
     "output_type": "display_data"
    }
   ],
   "source": [
    "sns.regplot(data=df, x = Y_train, y = lass_train_prediction, ci=None,line_kws={\"color\": \"red\"})\n",
    "plt.ylim(bottom=0)\n",
    "plt.xlim(left=0)\n",
    "plt.xlabel(\"Actual Price\")\n",
    "plt.ylabel(\"Predicted Price\")\n",
    "plt.show()"
   ]
  },
  {
   "cell_type": "markdown",
   "id": "a4d8c130-20e8-43a0-a252-3ca05a7e48ed",
   "metadata": {
    "tags": []
   },
   "source": [
    "### Lasso Regression Training Set Evaluation"
   ]
  },
  {
   "cell_type": "code",
   "execution_count": 32,
   "id": "3dc6e3b8-ad5a-44c0-96f4-e2c5bd4e04b8",
   "metadata": {},
   "outputs": [
    {
     "name": "stdout",
     "output_type": "stream",
     "text": [
      "Lin Train R squared Error :  0.8513629984683395\n"
     ]
    }
   ],
   "source": [
    "lass_train_r2_score = metrics.r2_score(Y_train, lass_train_prediction)\n",
    "print(\"Lin Train R squared Error : \", lass_train_r2_score)"
   ]
  },
  {
   "cell_type": "code",
   "execution_count": 33,
   "id": "3a50841c-706c-4657-a9d9-b324504a5f1c",
   "metadata": {},
   "outputs": [
    {
     "name": "stdout",
     "output_type": "stream",
     "text": [
      "Lin Train RMSE :  21.46418695325293\n"
     ]
    }
   ],
   "source": [
    "lass_train_RMSE_score = metrics.mean_squared_error(Y_train, lass_train_prediction)\n",
    "print(\"Lin Train RMSE : \", lass_train_RMSE_score)"
   ]
  },
  {
   "cell_type": "code",
   "execution_count": 34,
   "id": "56786755-b7aa-4d97-be9f-7496373c339e",
   "metadata": {},
   "outputs": [
    {
     "name": "stdout",
     "output_type": "stream",
     "text": [
      "Lin Train NRMSE :  0.2635259294444804\n"
     ]
    }
   ],
   "source": [
    "lass_train_NRMSE = lass_train_RMSE_score / (ymax - ymin)\n",
    "print(\"Lin Train NRMSE : \", lass_train_NRMSE)"
   ]
  },
  {
   "cell_type": "code",
   "execution_count": 35,
   "id": "7ed86f46-1a5a-4da9-b19d-d3c29811fe89",
   "metadata": {},
   "outputs": [
    {
     "name": "stdout",
     "output_type": "stream",
     "text": [
      "Lin Train MAPE :  0.08814265622896489\n"
     ]
    }
   ],
   "source": [
    "lass_train_MAPE_score = metrics.mean_absolute_percentage_error(Y_train, lass_train_prediction)\n",
    "print(\"Lin Train MAPE : \", lass_train_MAPE_score)"
   ]
  },
  {
   "cell_type": "code",
   "execution_count": 36,
   "id": "2b32c856-7335-424c-9a55-7c2fe1ba4d69",
   "metadata": {},
   "outputs": [
    {
     "name": "stdout",
     "output_type": "stream",
     "text": [
      "Lin Train MAE :  3.2424807817611963\n"
     ]
    }
   ],
   "source": [
    "lass_train_MAE_score = metrics.mean_absolute_error(Y_train, lass_train_prediction)\n",
    "print(\"Lin Train MAE : \", lass_train_MAE_score)"
   ]
  },
  {
   "cell_type": "markdown",
   "id": "893c82c7-d537-4f05-bb08-229d125deb2b",
   "metadata": {},
   "source": [
    "### Lasso Regression Testing Set"
   ]
  },
  {
   "cell_type": "code",
   "execution_count": 37,
   "id": "e33ff9ec",
   "metadata": {},
   "outputs": [],
   "source": [
    "lass_test_prediction = lass_reg_model.predict(X_test)"
   ]
  },
  {
   "cell_type": "code",
   "execution_count": 38,
   "id": "0e167a74",
   "metadata": {},
   "outputs": [
    {
     "data": {
      "image/png": "[encoded data removed]",
      "text/plain": [
       "<Figure size 432x288 with 1 Axes>"
      ]
     },
     "metadata": {
      "needs_background": "light"
     },
     "output_type": "display_data"
    }
   ],
   "source": [
    "plt.scatter(Y_test, lass_test_prediction)\n",
    "plt.xlabel(\"Actual Price\")\n",
    "plt.ylabel(\"Predicted Price\")\n",
    "plt.title(\" Actual Prices vs Predicted Prices\")\n",
    "plt.show()"
   ]
  },
  {
   "cell_type": "code",
   "execution_count": 39,
   "id": "d9417fc2-9945-4678-8031-2dea80b96def",
   "metadata": {},
   "outputs": [
    {
     "data": {
      "image/png": "[encoded data removed]",
      "text/plain": [
       "<Figure size 432x288 with 1 Axes>"
      ]
     },
     "metadata": {
      "needs_background": "light"
     },
     "output_type": "display_data"
    }
   ],
   "source": [
    "sns.regplot(data=df, x = Y_test, y = lass_test_prediction, ci=None,line_kws={\"color\": \"red\"})\n",
    "plt.ylim(bottom=0)\n",
    "plt.xlim(left=0)\n",
    "plt.xlabel(\"Actual Price\")\n",
    "plt.ylabel(\"Predicted Price\")\n",
    "plt.show()"
   ]
  },
  {
   "cell_type": "markdown",
   "id": "3eb77089-c4dc-463a-a3a0-79f65585ca3e",
   "metadata": {},
   "source": [
    "### Lasso Regression Testing Set Evaluation"
   ]
  },
  {
   "cell_type": "code",
   "execution_count": 40,
   "id": "f73ac685-4521-4289-944a-a8e9d006063d",
   "metadata": {},
   "outputs": [
    {
     "name": "stdout",
     "output_type": "stream",
     "text": [
      "Lass Test R squared Error :  0.8540074640445052\n"
     ]
    }
   ],
   "source": [
    "lass_test_r2_score = metrics.r2_score(Y_test, lass_test_prediction)\n",
    "print(\"Lass Test R squared Error : \", lass_test_r2_score)"
   ]
  },
  {
   "cell_type": "code",
   "execution_count": 41,
   "id": "7d07c2e6-5227-4fda-9ff4-08a9b401f2b9",
   "metadata": {},
   "outputs": [
    {
     "name": "stdout",
     "output_type": "stream",
     "text": [
      "Lass Test RMSE :  22.705445317538473\n"
     ]
    }
   ],
   "source": [
    "lass_test_RMSE_score = metrics.mean_squared_error(Y_test, lass_test_prediction)\n",
    "print(\"Lass Test RMSE : \", lass_test_RMSE_score)"
   ]
  },
  {
   "cell_type": "code",
   "execution_count": 42,
   "id": "1e60793d-ae8a-4d0a-9693-84879abddf64",
   "metadata": {},
   "outputs": [
    {
     "name": "stdout",
     "output_type": "stream",
     "text": [
      "Lass Test NRMSE :  0.2787654428181519\n"
     ]
    }
   ],
   "source": [
    "lass_test_NRMSE = lass_test_RMSE_score / (ymax - ymin)\n",
    "print(\"Lass Test NRMSE : \", lass_test_NRMSE)"
   ]
  },
  {
   "cell_type": "code",
   "execution_count": 43,
   "id": "5c34de7a-70f7-48df-a9fe-a5032cecbdac",
   "metadata": {},
   "outputs": [
    {
     "name": "stdout",
     "output_type": "stream",
     "text": [
      "Lass Test MAPE :  0.08860648594882058\n"
     ]
    }
   ],
   "source": [
    "lass_test_MAPE_score = metrics.mean_absolute_percentage_error(Y_test, lass_test_prediction)\n",
    "print(\"Lass Test MAPE : \", lass_test_MAPE_score)"
   ]
  },
  {
   "cell_type": "code",
   "execution_count": 44,
   "id": "4d864fe3-3222-4582-8751-7913085df8b4",
   "metadata": {},
   "outputs": [
    {
     "name": "stdout",
     "output_type": "stream",
     "text": [
      "Lass Test MAE :  3.254003640905712\n"
     ]
    }
   ],
   "source": [
    "lass_test_MAE_score = metrics.mean_absolute_error(Y_test, lass_test_prediction)\n",
    "print(\"Lass Test MAE : \", lass_test_MAE_score)"
   ]
  },
  {
   "cell_type": "markdown",
   "id": "03cf4905-03ee-4fba-83f6-b7f85004eb65",
   "metadata": {},
   "source": [
    "# XGBoost"
   ]
  },
  {
   "cell_type": "code",
   "execution_count": 45,
   "id": "2e85d93d-189b-404a-b448-71262b6df260",
   "metadata": {},
   "outputs": [
    {
     "name": "stdout",
     "output_type": "stream",
     "text": [
      "Requirement already satisfied: xgboost in c:\\users\\airco\\anaconda3\\lib\\site-packages (1.7.3)\n",
      "Requirement already satisfied: numpy in c:\\users\\airco\\anaconda3\\lib\\site-packages (from xgboost) (1.21.5)\n",
      "Requirement already satisfied: scipy in c:\\users\\airco\\anaconda3\\lib\\site-packages (from xgboost) (1.7.3)\n"
     ]
    }
   ],
   "source": [
    "import sys\n",
    "!{sys.executable} -m pip install xgboost"
   ]
  },
  {
   "cell_type": "code",
   "execution_count": 46,
   "id": "ebe76f60-7153-4bd0-a37f-a459235178af",
   "metadata": {},
   "outputs": [],
   "source": [
    "from xgboost import XGBRegressor\n",
    "# Set up XGBoost model\n",
    "xgbr = XGBRegressor(verbosity = 0)"
   ]
  },
  {
   "cell_type": "markdown",
   "id": "82ae1c7e-0472-4fa6-964b-65000b436628",
   "metadata": {},
   "source": [
    "### XGBoost Training Set"
   ]
  },
  {
   "cell_type": "code",
   "execution_count": 47,
   "id": "e55c34a1-1c4f-49b4-84ef-1a019dbbc999",
   "metadata": {},
   "outputs": [],
   "source": [
    "xgbr.fit(X_train,Y_train)\n",
    "score=xgbr.score(X_train,Y_train)\n"
   ]
  },
  {
   "cell_type": "code",
   "execution_count": 48,
   "id": "ca930a00-c906-4196-8f5c-d0364c89d18e",
   "metadata": {},
   "outputs": [],
   "source": [
    "xgb_train_prediction = xgbr.predict(X_train)"
   ]
  },
  {
   "cell_type": "code",
   "execution_count": 77,
   "id": "b9f46361-aa54-47d9-b478-94638a8b27f0",
   "metadata": {},
   "outputs": [
    {
     "data": {
      "image/png": "[encoded data removed]",
      "text/plain": [
       "<Figure size 432x288 with 1 Axes>"
      ]
     },
     "metadata": {
      "needs_background": "light"
     },
     "output_type": "display_data"
    }
   ],
   "source": [
    "plt.scatter(Y_train, xgb_train_prediction)\n",
    "plt.xlabel(\"Actual Price\")\n",
    "plt.ylabel(\"Predicted Price\")\n",
    "plt.title(\" Actual Prices vs Predicted Prices\")\n",
    "plt.show()"
   ]
  },
  {
   "cell_type": "code",
   "execution_count": 50,
   "id": "261a2424-4f4b-4021-b94c-08f842bc992c",
   "metadata": {},
   "outputs": [
    {
     "data": {
      "image/png": "[encoded data removed]",
      "text/plain": [
       "<Figure size 432x288 with 1 Axes>"
      ]
     },
     "metadata": {
      "needs_background": "light"
     },
     "output_type": "display_data"
    }
   ],
   "source": [
    "sns.regplot(data=df, x = Y_train, y = xgb_train_prediction, ci=None,line_kws={\"color\": \"red\"})\n",
    "plt.ylim(bottom=0)\n",
    "plt.xlim(left=0)\n",
    "plt.xlabel(\"Actual Price\")\n",
    "plt.ylabel(\"Predicted Price\")\n",
    "plt.show()"
   ]
  },
  {
   "cell_type": "markdown",
   "id": "6e96ec27-bb95-464f-9322-b804d0c4ce00",
   "metadata": {
    "tags": []
   },
   "source": [
    "### XGBoost Training Set Evaluation"
   ]
  },
  {
   "cell_type": "code",
   "execution_count": 51,
   "id": "832bef1e-c382-4ef0-a6ac-6624cde80927",
   "metadata": {},
   "outputs": [
    {
     "name": "stdout",
     "output_type": "stream",
     "text": [
      "XGB Train R squared Error :  0.9610062048699907\n"
     ]
    }
   ],
   "source": [
    "xgb_train_r2_score = metrics.r2_score(Y_train, xgb_train_prediction)\n",
    "print(\"XGB Train R squared Error : \", xgb_train_r2_score)"
   ]
  },
  {
   "cell_type": "code",
   "execution_count": 52,
   "id": "64148b8b-95d7-47e7-bb77-8b30a540a9fa",
   "metadata": {},
   "outputs": [
    {
     "name": "stdout",
     "output_type": "stream",
     "text": [
      "XGB Train RMSE :  5.630967390775068\n"
     ]
    }
   ],
   "source": [
    "xgb_train_RMSE_score = metrics.mean_squared_error(Y_train, xgb_train_prediction)\n",
    "print(\"XGB Train RMSE : \", xgb_train_RMSE_score)"
   ]
  },
  {
   "cell_type": "code",
   "execution_count": 53,
   "id": "e84ed6c9-8f15-4c5c-9bec-fad247b5bda8",
   "metadata": {},
   "outputs": [
    {
     "name": "stdout",
     "output_type": "stream",
     "text": [
      "XGB Train NRMSE :  0.06913403794690078\n"
     ]
    }
   ],
   "source": [
    "xgb_train_NRMSE = xgb_train_RMSE_score / (ymax - ymin)\n",
    "print(\"XGB Train NRMSE : \", xgb_train_NRMSE)"
   ]
  },
  {
   "cell_type": "code",
   "execution_count": 54,
   "id": "a1b98dc7-1ca8-4b98-b47d-7fc5b7f7cecf",
   "metadata": {},
   "outputs": [
    {
     "name": "stdout",
     "output_type": "stream",
     "text": [
      "XGB Train MAPE :  0.04890518460833504\n"
     ]
    }
   ],
   "source": [
    "xgb_train_MAPE_score = metrics.mean_absolute_percentage_error(Y_train, xgb_train_prediction)\n",
    "print(\"XGB Train MAPE : \", xgb_train_MAPE_score)"
   ]
  },
  {
   "cell_type": "code",
   "execution_count": 55,
   "id": "c44a43c4-b7e0-4c42-9738-76fabf817e8c",
   "metadata": {},
   "outputs": [
    {
     "name": "stdout",
     "output_type": "stream",
     "text": [
      "Lin Train MAE :  1.726975549857439\n"
     ]
    }
   ],
   "source": [
    "xgb_train_MAE_score = metrics.mean_absolute_error(Y_train, xgb_train_prediction)\n",
    "print(\"Lin Train MAE : \", xgb_train_MAE_score)"
   ]
  },
  {
   "cell_type": "markdown",
   "id": "730a4d3b-fa85-459f-8515-8f7f04ab951f",
   "metadata": {},
   "source": [
    "### XGBoost Testing Set"
   ]
  },
  {
   "cell_type": "code",
   "execution_count": 56,
   "id": "170b49ca-7e3b-40c4-9ed2-2f839797e032",
   "metadata": {},
   "outputs": [],
   "source": [
    "xgb_test_prediction = xgbr.predict(X_test)"
   ]
  },
  {
   "cell_type": "code",
   "execution_count": 57,
   "id": "ddff5eca-2c9d-4866-8d63-882f2f92dd3c",
   "metadata": {},
   "outputs": [
    {
     "data": {
      "image/png": "[encoded data removed]",
      "text/plain": [
       "<Figure size 432x288 with 1 Axes>"
      ]
     },
     "metadata": {
      "needs_background": "light"
     },
     "output_type": "display_data"
    }
   ],
   "source": [
    "plt.scatter(Y_test, xgb_test_prediction)\n",
    "plt.xlabel(\"Actual Price\")\n",
    "plt.ylabel(\"Predicted Price\")\n",
    "plt.title(\" Actual Prices vs Predicted Prices\")\n",
    "plt.show()"
   ]
  },
  {
   "cell_type": "code",
   "execution_count": 58,
   "id": "fc54ad6c-2c7b-48f6-94f2-8f94c333113b",
   "metadata": {},
   "outputs": [
    {
     "data": {
      "image/png": "[encoded data removed]",
      "text/plain": [
       "<Figure size 432x288 with 1 Axes>"
      ]
     },
     "metadata": {
      "needs_background": "light"
     },
     "output_type": "display_data"
    }
   ],
   "source": [
    "import seaborn as sns\n",
    "import matplotlib.pyplot as plt\n",
    "sns.regplot(data=df, x = Y_test, y = xgb_test_prediction, ci=None,line_kws={\"color\": \"red\"})\n",
    "plt.ylim(bottom=0)\n",
    "plt.xlim(left=0)\n",
    "plt.show()"
   ]
  },
  {
   "cell_type": "markdown",
   "id": "8b6cc3a0-8a0e-4c72-b45c-80240df16170",
   "metadata": {},
   "source": [
    "### XGBoost Testing Set Evaluation"
   ]
  },
  {
   "cell_type": "code",
   "execution_count": 59,
   "id": "0e94aa16-5ef3-4d9b-a363-86f576279fdb",
   "metadata": {},
   "outputs": [
    {
     "name": "stdout",
     "output_type": "stream",
     "text": [
      "xgb Test R squared Error :  0.9385747936088741\n"
     ]
    }
   ],
   "source": [
    "xgb_test_r2_score = metrics.r2_score(Y_test, xgb_test_prediction)\n",
    "print(\"xgb Test R squared Error : \", xgb_test_r2_score)"
   ]
  },
  {
   "cell_type": "code",
   "execution_count": 60,
   "id": "25c986ff-8efc-459d-ac82-1fed29066e25",
   "metadata": {},
   "outputs": [
    {
     "name": "stdout",
     "output_type": "stream",
     "text": [
      "xgb Test RMSE :  9.553136779933658\n"
     ]
    }
   ],
   "source": [
    "xgb_test_RMSE_score = metrics.mean_squared_error(Y_test, xgb_test_prediction)\n",
    "print(\"xgb Test RMSE : \", xgb_test_RMSE_score)"
   ]
  },
  {
   "cell_type": "code",
   "execution_count": 61,
   "id": "ed4418a4-dff4-4e37-a0df-532103e5caa4",
   "metadata": {},
   "outputs": [
    {
     "name": "stdout",
     "output_type": "stream",
     "text": [
      "xgb Test NRMSE :  0.11728835825578462\n"
     ]
    }
   ],
   "source": [
    "xgb_test_NRMSE = xgb_test_RMSE_score / (ymax - ymin)\n",
    "print(\"xgb Test NRMSE : \", xgb_test_NRMSE)"
   ]
  },
  {
   "cell_type": "code",
   "execution_count": 62,
   "id": "2b04bcf3-bba6-4a0b-8bf2-a38c54cf7f14",
   "metadata": {},
   "outputs": [
    {
     "name": "stdout",
     "output_type": "stream",
     "text": [
      "Lass Test MAPE :  0.06098131883732893\n"
     ]
    }
   ],
   "source": [
    "xgb_test_MAPE_score = metrics.mean_absolute_percentage_error(Y_test, xgb_test_prediction)\n",
    "print(\"Lass Test MAPE : \", xgb_test_MAPE_score)"
   ]
  },
  {
   "cell_type": "code",
   "execution_count": 63,
   "id": "fe248ed5-295f-4ed9-b89f-4cf609bf71a5",
   "metadata": {},
   "outputs": [
    {
     "name": "stdout",
     "output_type": "stream",
     "text": [
      "Lass Test MAE :  2.22209836660705\n"
     ]
    }
   ],
   "source": [
    "xgb_test_MAE_score = metrics.mean_absolute_error(Y_test, xgb_test_prediction)\n",
    "print(\"Lass Test MAE : \", xgb_test_MAE_score)"
   ]
  },
  {
   "cell_type": "markdown",
   "id": "68c0afe7-6c58-494a-8b23-025392e760d1",
   "metadata": {},
   "source": [
    "# Tables of Model Evaluation Results"
   ]
  },
  {
   "cell_type": "markdown",
   "id": "c080e258-fac7-4768-8cea-b8d3f4b0b6ca",
   "metadata": {},
   "source": [
    "### Training Sets"
   ]
  },
  {
   "cell_type": "code",
   "execution_count": 64,
   "id": "05bc781d-b8e3-4b75-a886-109fda1e658e",
   "metadata": {},
   "outputs": [],
   "source": [
    "model_list = ['Linear Regression', 'Lasso Regression', 'XGBoost']\n",
    "train_r2_list = []\n",
    "train_RMSE_list = []\n",
    "train_NRMSE_list = []\n",
    "train_MAE_list = []\n",
    "train_MAPE_list = []\n",
    "\n",
    "train_r2_list.append(lin_train_r2_score)\n",
    "train_RMSE_list.append(lin_train_RMSE_score)\n",
    "train_NRMSE_list.append(lin_train_NRMSE)\n",
    "train_MAE_list.append(lin_train_MAE_score)\n",
    "train_MAPE_list.append(lin_train_MAPE_score)\n",
    "\n",
    "train_r2_list.append(lass_train_r2_score)\n",
    "train_RMSE_list.append(lass_train_RMSE_score)\n",
    "train_NRMSE_list.append(lass_train_NRMSE)\n",
    "train_MAE_list.append(lass_train_MAE_score)\n",
    "train_MAPE_list.append(lass_train_MAPE_score)\n",
    "\n",
    "train_r2_list.append(xgb_train_r2_score)\n",
    "train_RMSE_list.append(xgb_train_RMSE_score)\n",
    "train_NRMSE_list.append(xgb_train_NRMSE)\n",
    "train_MAE_list.append(xgb_train_MAE_score)\n",
    "train_MAPE_list.append(xgb_train_MAPE_score)\n"
   ]
  },
  {
   "cell_type": "code",
   "execution_count": 65,
   "id": "1755d623-cd46-4e04-948b-c21d2a226b90",
   "metadata": {},
   "outputs": [
    {
     "data": {
      "text/html": [
       "<div>\n",
       "<style scoped>\n",
       "    .dataframe tbody tr th:only-of-type {\n",
       "        vertical-align: middle;\n",
       "    }\n",
       "\n",
       "    .dataframe tbody tr th {\n",
       "        vertical-align: top;\n",
       "    }\n",
       "\n",
       "    .dataframe thead th {\n",
       "        text-align: right;\n",
       "    }\n",
       "</style>\n",
       "<table border=\"1\" class=\"dataframe\">\n",
       "  <thead>\n",
       "    <tr style=\"text-align: right;\">\n",
       "      <th></th>\n",
       "      <th>Model</th>\n",
       "      <th>R^2</th>\n",
       "      <th>RMSE</th>\n",
       "      <th>Normalized RMSE</th>\n",
       "      <th>MAE</th>\n",
       "      <th>MAPE</th>\n",
       "    </tr>\n",
       "  </thead>\n",
       "  <tbody>\n",
       "    <tr>\n",
       "      <th>0</th>\n",
       "      <td>Linear Regression</td>\n",
       "      <td>0.906750</td>\n",
       "      <td>13.465906</td>\n",
       "      <td>0.165327</td>\n",
       "      <td>2.641576</td>\n",
       "      <td>0.075292</td>\n",
       "    </tr>\n",
       "    <tr>\n",
       "      <th>1</th>\n",
       "      <td>Lasso Regression</td>\n",
       "      <td>0.851363</td>\n",
       "      <td>21.464187</td>\n",
       "      <td>0.263526</td>\n",
       "      <td>3.242481</td>\n",
       "      <td>0.088143</td>\n",
       "    </tr>\n",
       "    <tr>\n",
       "      <th>2</th>\n",
       "      <td>XGBoost</td>\n",
       "      <td>0.961006</td>\n",
       "      <td>5.630967</td>\n",
       "      <td>0.069134</td>\n",
       "      <td>1.726976</td>\n",
       "      <td>0.048905</td>\n",
       "    </tr>\n",
       "  </tbody>\n",
       "</table>\n",
       "</div>"
      ],
      "text/plain": [
       "               Model       R^2       RMSE  Normalized RMSE       MAE      MAPE\n",
       "0  Linear Regression  0.906750  13.465906         0.165327  2.641576  0.075292\n",
       "1   Lasso Regression  0.851363  21.464187         0.263526  3.242481  0.088143\n",
       "2            XGBoost  0.961006   5.630967         0.069134  1.726976  0.048905"
      ]
     },
     "metadata": {},
     "output_type": "display_data"
    }
   ],
   "source": [
    "train_eval = {'Model': model_list, 'R^2': train_r2_list, 'RMSE': train_RMSE_list, 'Normalized RMSE': train_NRMSE_list, 'MAE' : train_MAE_list , 'MAPE' : train_MAPE_list}\n",
    "\n",
    "# Create a dataframe from the dictionary\n",
    "df2 = pd.DataFrame(train_eval)\n",
    "\n",
    "from IPython.display import display\n",
    "display(df2)"
   ]
  },
  {
   "cell_type": "markdown",
   "id": "d2f02d91-cb8b-45c0-add1-63c2e3a6854c",
   "metadata": {},
   "source": [
    "### Testing Sets"
   ]
  },
  {
   "cell_type": "code",
   "execution_count": 66,
   "id": "23c22fb6-6310-4f12-91c6-ab89a0ae5067",
   "metadata": {},
   "outputs": [],
   "source": [
    "model_list = ['Linear Regression', 'Lasso Regression', 'XGBoost']\n",
    "test_r2_list = []\n",
    "test_RMSE_list = []\n",
    "test_NRMSE_list = []\n",
    "test_MAE_list = []\n",
    "test_MAPE_list = []\n",
    "\n",
    "test_r2_list.append(lin_test_r2_score)\n",
    "test_RMSE_list.append(lin_test_RMSE_score)\n",
    "test_NRMSE_list.append(lin_test_NRMSE)\n",
    "test_MAE_list.append(lin_test_MAE_score)\n",
    "test_MAPE_list.append(lin_test_MAPE_score)\n",
    "\n",
    "test_r2_list.append(lass_test_r2_score)\n",
    "test_RMSE_list.append(lass_test_RMSE_score)\n",
    "test_NRMSE_list.append(lass_test_NRMSE)\n",
    "test_MAE_list.append(lass_test_MAE_score)\n",
    "test_MAPE_list.append(lass_test_MAPE_score)\n",
    "\n",
    "test_r2_list.append(xgb_test_r2_score)\n",
    "test_RMSE_list.append(xgb_test_RMSE_score)\n",
    "test_NRMSE_list.append(xgb_test_NRMSE)\n",
    "test_MAE_list.append(xgb_test_MAE_score)\n",
    "test_MAPE_list.append(xgb_test_MAPE_score)\n"
   ]
  },
  {
   "cell_type": "code",
   "execution_count": 67,
   "id": "db06f180-3a38-4d8f-9ef4-81b4002e12dd",
   "metadata": {},
   "outputs": [
    {
     "data": {
      "text/html": [
       "<div>\n",
       "<style scoped>\n",
       "    .dataframe tbody tr th:only-of-type {\n",
       "        vertical-align: middle;\n",
       "    }\n",
       "\n",
       "    .dataframe tbody tr th {\n",
       "        vertical-align: top;\n",
       "    }\n",
       "\n",
       "    .dataframe thead th {\n",
       "        text-align: right;\n",
       "    }\n",
       "</style>\n",
       "<table border=\"1\" class=\"dataframe\">\n",
       "  <thead>\n",
       "    <tr style=\"text-align: right;\">\n",
       "      <th></th>\n",
       "      <th>Model</th>\n",
       "      <th>R^2</th>\n",
       "      <th>RMSE</th>\n",
       "      <th>Normalized RMSE</th>\n",
       "      <th>MAE</th>\n",
       "      <th>MAPE</th>\n",
       "    </tr>\n",
       "  </thead>\n",
       "  <tbody>\n",
       "    <tr>\n",
       "      <th>0</th>\n",
       "      <td>Linear Regression</td>\n",
       "      <td>0.899144</td>\n",
       "      <td>15.685625</td>\n",
       "      <td>0.192580</td>\n",
       "      <td>2.687728</td>\n",
       "      <td>0.076494</td>\n",
       "    </tr>\n",
       "    <tr>\n",
       "      <th>1</th>\n",
       "      <td>Lasso Regression</td>\n",
       "      <td>0.854007</td>\n",
       "      <td>22.705445</td>\n",
       "      <td>0.278765</td>\n",
       "      <td>3.254004</td>\n",
       "      <td>0.088606</td>\n",
       "    </tr>\n",
       "    <tr>\n",
       "      <th>2</th>\n",
       "      <td>XGBoost</td>\n",
       "      <td>0.938575</td>\n",
       "      <td>9.553137</td>\n",
       "      <td>0.117288</td>\n",
       "      <td>2.222098</td>\n",
       "      <td>0.060981</td>\n",
       "    </tr>\n",
       "  </tbody>\n",
       "</table>\n",
       "</div>"
      ],
      "text/plain": [
       "               Model       R^2       RMSE  Normalized RMSE       MAE      MAPE\n",
       "0  Linear Regression  0.899144  15.685625         0.192580  2.687728  0.076494\n",
       "1   Lasso Regression  0.854007  22.705445         0.278765  3.254004  0.088606\n",
       "2            XGBoost  0.938575   9.553137         0.117288  2.222098  0.060981"
      ]
     },
     "metadata": {},
     "output_type": "display_data"
    }
   ],
   "source": [
    "test_eval = {'Model': model_list, 'R^2': test_r2_list, 'RMSE': test_RMSE_list, 'Normalized RMSE': test_NRMSE_list, 'MAE' : test_MAE_list , 'MAPE' : test_MAPE_list}\n",
    "\n",
    "# Create a dataframe from the dictionary\n",
    "df3 = pd.DataFrame(test_eval)\n",
    "\n",
    "from IPython.display import display\n",
    "display(df3)"
   ]
  },
  {
   "cell_type": "markdown",
   "id": "0f5a09f3-206f-48e4-99f6-e511ae5eda81",
   "metadata": {},
   "source": [
    "# Graphs of Comparisons"
   ]
  },
  {
   "cell_type": "markdown",
   "id": "78011ff1-be26-46cd-8643-bc6d04855854",
   "metadata": {},
   "source": [
    "### Graph for R^2 Scores in Train Sets"
   ]
  },
  {
   "cell_type": "code",
   "execution_count": 68,
   "id": "0700a8cc-b4cd-4704-b186-aebc148bf266",
   "metadata": {},
   "outputs": [
    {
     "data": {
      "text/plain": [
       "<BarContainer object of 3 artists>"
      ]
     },
     "execution_count": 68,
     "metadata": {},
     "output_type": "execute_result"
    },
    {
     "data": {
      "image/png": "[encoded data removed]",
      "text/plain": [
       "<Figure size 432x288 with 1 Axes>"
      ]
     },
     "metadata": {
      "needs_background": "light"
     },
     "output_type": "display_data"
    }
   ],
   "source": [
    "graph1 = {'Linear Regression':lin_train_r2_score, 'Lasso Regression':lass_train_r2_score, 'XGBoost':xgb_train_r2_score}\n",
    "graphlist1 = list(graph1.keys())\n",
    "r2_train = list(graph1.values())\n",
    "plt.title('R^2 Scores among the training sets of the 3 models')\n",
    "plt.ylabel('R^2 Score')\n",
    "plt.bar(graphlist1,r2_train,color = 'blue', width = 0.3)"
   ]
  },
  {
   "cell_type": "markdown",
   "id": "44ad87cc-a650-4774-91b8-d3d8b2939ba9",
   "metadata": {},
   "source": [
    "### Graph for Normalized RMSE in Train Sets"
   ]
  },
  {
   "cell_type": "code",
   "execution_count": 69,
   "id": "701b25a2-c5dc-4790-bb3f-24d1db547fbe",
   "metadata": {},
   "outputs": [
    {
     "data": {
      "text/plain": [
       "<BarContainer object of 3 artists>"
      ]
     },
     "execution_count": 69,
     "metadata": {},
     "output_type": "execute_result"
    },
    {
     "data": {
      "image/png": "[encoded data removed]",
      "text/plain": [
       "<Figure size 432x288 with 1 Axes>"
      ]
     },
     "metadata": {
      "needs_background": "light"
     },
     "output_type": "display_data"
    }
   ],
   "source": [
    "graph2 = {'Linear Regression':lin_train_NRMSE, 'Lasso Regression':lass_train_NRMSE, 'XGBoost':xgb_train_NRMSE}\n",
    "graphlist2 = list(graph2.keys())\n",
    "NRMSE_train = list(graph2.values())\n",
    "plt.title('NRMSE Scores among the training sets of the 3 models')\n",
    "plt.ylabel('NRMSE Score')\n",
    "plt.bar(graphlist2,NRMSE_train,color = 'gold', width = 0.3)"
   ]
  },
  {
   "cell_type": "markdown",
   "id": "790c0dad-8e40-4b3e-a7ab-cd95e5373569",
   "metadata": {},
   "source": [
    "### Graph for MAPE in Train Sets"
   ]
  },
  {
   "cell_type": "code",
   "execution_count": 70,
   "id": "cd686240-508f-4bb4-9ba6-07a0993f023e",
   "metadata": {},
   "outputs": [
    {
     "data": {
      "text/plain": [
       "<BarContainer object of 3 artists>"
      ]
     },
     "execution_count": 70,
     "metadata": {},
     "output_type": "execute_result"
    },
    {
     "data": {
      "image/png": "[encoded data removed]",
      "text/plain": [
       "<Figure size 432x288 with 1 Axes>"
      ]
     },
     "metadata": {
      "needs_background": "light"
     },
     "output_type": "display_data"
    }
   ],
   "source": [
    "graph3 = {'Linear Regression':lin_train_MAPE_score, 'Lasso Regression':lass_train_MAPE_score, 'XGBoost':xgb_train_MAPE_score}\n",
    "graphlist3 = list(graph3.keys())\n",
    "MAPE_train = list(graph3.values())\n",
    "plt.title('MAPE Scores among the training sets of the 3 models')\n",
    "plt.ylabel('MAPE Score')\n",
    "plt.bar(graphlist3,MAPE_train,color = 'maroon', width = 0.3)"
   ]
  },
  {
   "cell_type": "markdown",
   "id": "bed6b47b-c87b-457e-a681-4701f8c3efff",
   "metadata": {},
   "source": [
    "# TEST SETS"
   ]
  },
  {
   "cell_type": "markdown",
   "id": "4f61abb3-d785-48f0-8b76-0cbe12ac68d7",
   "metadata": {},
   "source": [
    "### Graph for R^2 Scores in Test Sets"
   ]
  },
  {
   "cell_type": "code",
   "execution_count": 71,
   "id": "a8753783-2f71-4552-b438-f8766675ae0f",
   "metadata": {},
   "outputs": [
    {
     "data": {
      "text/plain": [
       "<BarContainer object of 3 artists>"
      ]
     },
     "execution_count": 71,
     "metadata": {},
     "output_type": "execute_result"
    },
    {
     "data": {
      "image/png": "[encoded data removed]",
      "text/plain": [
       "<Figure size 432x288 with 1 Axes>"
      ]
     },
     "metadata": {
      "needs_background": "light"
     },
     "output_type": "display_data"
    }
   ],
   "source": [
    "graph4 = {'Linear Regression':lin_test_r2_score, 'Lasso Regression':lass_test_r2_score, 'XGBoost':xgb_test_r2_score}\n",
    "graphlist4 = list(graph4.keys())\n",
    "r2_test = list(graph4.values())\n",
    "plt.title('R^2 Scores among the testing sets of the 3 models')\n",
    "plt.ylabel('R^2 Score')\n",
    "plt.bar(graphlist4,r2_test,color = 'violet', width = 0.3)"
   ]
  },
  {
   "cell_type": "markdown",
   "id": "8cf23d3e-93c5-4f59-a69c-f3dfd05d2513",
   "metadata": {},
   "source": [
    "### Graph for Normalized RMSE in Test Sets"
   ]
  },
  {
   "cell_type": "code",
   "execution_count": 80,
   "id": "f971d273-7554-4cef-b438-c8c4a6ce838f",
   "metadata": {},
   "outputs": [
    {
     "data": {
      "text/plain": [
       "<BarContainer object of 3 artists>"
      ]
     },
     "execution_count": 80,
     "metadata": {},
     "output_type": "execute_result"
    },
    {
     "data": {
      "image/png": "[encoded data removed]",
      "text/plain": [
       "<Figure size 432x288 with 1 Axes>"
      ]
     },
     "metadata": {
      "needs_background": "light"
     },
     "output_type": "display_data"
    }
   ],
   "source": [
    "graph5 = {'Linear Regression':lin_test_NRMSE, 'Lasso Regression':lass_test_NRMSE, 'XGBoost':xgb_test_NRMSE}\n",
    "graphlist5 = list(graph5.keys())\n",
    "NRMSE_test = list(graph5.values())\n",
    "plt.title('NRMSE Scores among the testing sets of the 3 models')\n",
    "plt.ylabel('NRMSE Score')\n",
    "plt.bar(graphlist5,NRMSE_test,color = 'orange', width = 0.3)"
   ]
  },
  {
   "cell_type": "markdown",
   "id": "1a474be6-8aea-49cd-813e-e395f3673c9c",
   "metadata": {},
   "source": [
    "### Graph for MAPE in Test Sets"
   ]
  },
  {
   "cell_type": "code",
   "execution_count": 81,
   "id": "465110a1-7361-433c-a5bb-11da2d761d5a",
   "metadata": {},
   "outputs": [
    {
     "data": {
      "text/plain": [
       "<BarContainer object of 3 artists>"
      ]
     },
     "execution_count": 81,
     "metadata": {},
     "output_type": "execute_result"
    },
    {
     "data": {
      "image/png": "[encoded data removed]",
      "text/plain": [
       "<Figure size 432x288 with 1 Axes>"
      ]
     },
     "metadata": {
      "needs_background": "light"
     },
     "output_type": "display_data"
    }
   ],
   "source": [
    "graph6 = {'Linear Regression':lin_test_MAPE_score, 'Lasso Regression':lass_test_MAPE_score, 'XGBoost':xgb_test_MAPE_score}\n",
    "graphlist6 = list(graph6.keys())\n",
    "MAPE_test = list(graph6.values())\n",
    "plt.title('MAPE Scores among the testing sets of the 3 models')\n",
    "plt.ylabel('MAPE Score')\n",
    "plt.bar(graphlist6,MAPE_test,color = 'green', width = 0.3)"
   ]
  },
  {
   "cell_type": "code",
   "execution_count": null,
   "id": "6beb9c24-c843-468c-a408-1388a289e664",
   "metadata": {},
   "outputs": [],
   "source": []
  }
 ],
 "metadata": {
  "kernelspec": {
   "display_name": "Python 3 (ipykernel)",
   "language": "python",
   "name": "python3"
  },
  "language_info": {
   "codemirror_mode": {
    "name": "ipython",
    "version": 3
   },
   "file_extension": ".py",
   "mimetype": "text/x-python",
   "name": "python",
   "nbconvert_exporter": "python",
   "pygments_lexer": "ipython3",
   "version": "3.9.12"
  }
 },
 "nbformat": 4,
 "nbformat_minor": 5
}
